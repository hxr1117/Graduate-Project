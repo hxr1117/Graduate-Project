{
 "cells": [
  {
   "cell_type": "code",
   "execution_count": 9,
   "metadata": {},
   "outputs": [],
   "source": [
    "import pandas as pd\n",
    "import numpy as np\n",
    "import os"
   ]
  },
  {
   "cell_type": "code",
   "execution_count": 36,
   "metadata": {},
   "outputs": [],
   "source": [
    "# Apache web server logs /var/log/httpd/access_log, /var/log/httpd/error-log, /var/log/httpd/referer-log and /var/log/httpd/audit_log\n",
    "\n",
    "path = \"../Data/var/log/httpd/\"\n",
    "data_path = {\n",
    "    \"acc_log\": \"access_log\",\n",
    "    \"err_log\": \"error_log\",\n",
    "    \"ref_log\": \"referer_log\",\n",
    "    \"aud_log\": \"audit_log\",\n",
    "}"
   ]
  },
  {
   "cell_type": "code",
   "execution_count": 37,
   "metadata": {},
   "outputs": [],
   "source": [
    "\"\"\"\n",
    "This function is to read log data from files and store them in ...\n",
    "\"\"\"\n",
    "def read_dataset(path, data_path):\n",
    "    # get all file list in path\n",
    "    for root, dirs, files in os.walk(path):\n",
    "        all_file_list = files\n",
    "    # take Apache Server Log\n",
    "    apache_list = {}\n",
    "    for idx, log in enumerate(data_path):\n",
    "        apache_list[log] = []\n",
    "        for f in files:\n",
    "            if f.split(\".\")[0] == data_path[log]:\n",
    "                apache_list[log].append(f)\n",
    "    # read Apache Log files\n",
    "    apache_file = {}\n",
    "    for idx, log_type in enumerate(apache_list):\n",
    "        apache_file[log_type] = []\n",
    "        for log in apache_list[log_type]:\n",
    "            file = open(path+log, \"r\", encoding='iso-8859-1')\n",
    "            apache_file[log_type].extend(file.readlines())\n",
    "    return apache_file"
   ]
  },
  {
   "cell_type": "code",
   "execution_count": 44,
   "metadata": {},
   "outputs": [],
   "source": [
    "\"\"\"\n",
    "Aim of this function is to pre-process data, like removing the time.\n",
    "\"\"\"\n",
    "def clean_data(data):\n",
    "    # remove time\n",
    "    for idx, log_type in enumerate(data):\n",
    "        for i in range(len(data[log_type])):\n",
    "            data[log_type][i] = data[log_type][i][27:]\n",
    "    # delete duplicate log\n",
    "    \n",
    "    return data"
   ]
  },
  {
   "cell_type": "code",
   "execution_count": null,
   "metadata": {},
   "outputs": [],
   "source": []
  }
 ],
 "metadata": {
  "kernelspec": {
   "display_name": "Python 3",
   "language": "python",
   "name": "python3"
  },
  "language_info": {
   "codemirror_mode": {
    "name": "ipython",
    "version": 3
   },
   "file_extension": ".py",
   "mimetype": "text/x-python",
   "name": "python",
   "nbconvert_exporter": "python",
   "pygments_lexer": "ipython3",
   "version": "3.7.4"
  }
 },
 "nbformat": 4,
 "nbformat_minor": 4
}
